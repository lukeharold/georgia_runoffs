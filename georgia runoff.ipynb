{
 "cells": [
  {
   "cell_type": "markdown",
   "metadata": {},
   "source": [
    "## San Diego area donors to the candidates of the Jan. 5, 2020 Georgia Senate races\n",
    "\n",
    "Luke Harold \n",
    "\n",
    "** includes data from the cities of San Diego, Del Mar, Solana Beach, Encinitas, Carlsbad and Oceanside"
   ]
  },
  {
   "cell_type": "code",
   "execution_count": 31,
   "metadata": {},
   "outputs": [],
   "source": [
    "import pandas as pd"
   ]
  },
  {
   "cell_type": "code",
   "execution_count": 32,
   "metadata": {},
   "outputs": [],
   "source": [
    "georgia = pd.read_csv(\"schedule_a-2021-01-05T20_53_43.csv\")"
   ]
  },
  {
   "cell_type": "code",
   "execution_count": 33,
   "metadata": {},
   "outputs": [
    {
     "name": "stdout",
     "output_type": "stream",
     "text": [
      "<class 'pandas.core.frame.DataFrame'>\n",
      "RangeIndex: 753 entries, 0 to 752\n",
      "Data columns (total 79 columns):\n",
      " #   Column                                 Non-Null Count  Dtype  \n",
      "---  ------                                 --------------  -----  \n",
      " 0   committee_id                           753 non-null    object \n",
      " 1   committee_name                         753 non-null    object \n",
      " 2   report_year                            753 non-null    int64  \n",
      " 3   report_type                            753 non-null    object \n",
      " 4   image_number                           753 non-null    int64  \n",
      " 5   line_number                            753 non-null    object \n",
      " 6   transaction_id                         753 non-null    object \n",
      " 7   file_number                            753 non-null    int64  \n",
      " 8   committee_name.1                       0 non-null      float64\n",
      " 9   entity_type                            753 non-null    object \n",
      " 10  entity_type_desc                       753 non-null    object \n",
      " 11  unused_contbr_id                       702 non-null    object \n",
      " 12  contributor_prefix                     0 non-null      float64\n",
      " 13  contributor_name                       753 non-null    object \n",
      " 14  recipient_committee_type               753 non-null    object \n",
      " 15  recipient_committee_org_type           0 non-null      float64\n",
      " 16  recipient_committee_designation        753 non-null    object \n",
      " 17  contributor_first_name                 753 non-null    object \n",
      " 18  contributor_middle_name                40 non-null     object \n",
      " 19  contributor_last_name                  753 non-null    object \n",
      " 20  contributor_suffix                     1 non-null      object \n",
      " 21  contributor_street_1                   753 non-null    object \n",
      " 22  contributor_street_2                   161 non-null    object \n",
      " 23  contributor_city                       753 non-null    object \n",
      " 24  contributor_state                      753 non-null    object \n",
      " 25  contributor_zip                        753 non-null    int64  \n",
      " 26  contributor_employer                   753 non-null    object \n",
      " 27  contributor_occupation                 753 non-null    object \n",
      " 28  contributor_id                         702 non-null    object \n",
      " 29  receipt_type                           753 non-null    object \n",
      " 30  receipt_type_desc                      753 non-null    object \n",
      " 31  receipt_type_full                      31 non-null     object \n",
      " 32  memo_code                              13 non-null     object \n",
      " 33  memo_code_full                         0 non-null      float64\n",
      " 34  contribution_receipt_date              753 non-null    object \n",
      " 35  contribution_receipt_amount            753 non-null    float64\n",
      " 36  contributor_aggregate_ytd              753 non-null    float64\n",
      " 37  candidate_id                           0 non-null      float64\n",
      " 38  candidate_name                         0 non-null      float64\n",
      " 39  candidate_first_name                   0 non-null      float64\n",
      " 40  candidate_last_name                    0 non-null      float64\n",
      " 41  candidate_middle_name                  0 non-null      float64\n",
      " 42  candidate_prefix                       0 non-null      float64\n",
      " 43  candidate_suffix                       0 non-null      float64\n",
      " 44  candidate_office                       0 non-null      float64\n",
      " 45  candidate_office_full                  0 non-null      float64\n",
      " 46  candidate_office_state                 0 non-null      float64\n",
      " 47  candidate_office_state_full            0 non-null      float64\n",
      " 48  candidate_office_district              0 non-null      float64\n",
      " 49  conduit_committee_id                   0 non-null      float64\n",
      " 50  conduit_committee_name                 0 non-null      float64\n",
      " 51  conduit_committee_street1              0 non-null      float64\n",
      " 52  conduit_committee_street2              0 non-null      float64\n",
      " 53  conduit_committee_city                 0 non-null      float64\n",
      " 54  conduit_committee_state                0 non-null      float64\n",
      " 55  conduit_committee_zip                  0 non-null      float64\n",
      " 56  donor_committee_name                   0 non-null      float64\n",
      " 57  national_committee_nonfederal_account  0 non-null      float64\n",
      " 58  election_type                          753 non-null    object \n",
      " 59  election_type_full                     260 non-null    object \n",
      " 60  fec_election_type_desc                 688 non-null    object \n",
      " 61  fec_election_year                      748 non-null    float64\n",
      " 62  amendment_indicator                    753 non-null    object \n",
      " 63  amendment_indicator_desc               753 non-null    object \n",
      " 64  schedule_type_full                     753 non-null    object \n",
      " 65  load_date                              753 non-null    object \n",
      " 66  original_sub_id                        0 non-null      float64\n",
      " 67  back_reference_transaction_id          696 non-null    object \n",
      " 68  back_reference_schedule_name           696 non-null    object \n",
      " 69  filing_form                            753 non-null    object \n",
      " 70  link_id                                753 non-null    int64  \n",
      " 71  is_individual                          753 non-null    object \n",
      " 72  memo_text                              684 non-null    object \n",
      " 73  two_year_transaction_period            753 non-null    int64  \n",
      " 74  schedule_type                          753 non-null    object \n",
      " 75  increased_limit                        0 non-null      float64\n",
      " 76  sub_id                                 753 non-null    int64  \n",
      " 77  pdf_url                                753 non-null    object \n",
      " 78  line_number_label                      753 non-null    object \n",
      "dtypes: float64(30), int64(7), object(42)\n",
      "memory usage: 464.9+ KB\n"
     ]
    }
   ],
   "source": [
    "georgia.info()"
   ]
  },
  {
   "cell_type": "code",
   "execution_count": 128,
   "metadata": {},
   "outputs": [],
   "source": [
    "by_city = georgia[georgia.contributor_city == \"DEL MAR\"]"
   ]
  },
  {
   "cell_type": "code",
   "execution_count": 129,
   "metadata": {},
   "outputs": [],
   "source": [
    "by_candidate = by_city[by_city.committee_name.str.contains(\"PERDUE\")]"
   ]
  },
  {
   "cell_type": "code",
   "execution_count": 130,
   "metadata": {},
   "outputs": [
    {
     "data": {
      "text/html": [
       "<div>\n",
       "<style scoped>\n",
       "    .dataframe tbody tr th:only-of-type {\n",
       "        vertical-align: middle;\n",
       "    }\n",
       "\n",
       "    .dataframe tbody tr th {\n",
       "        vertical-align: top;\n",
       "    }\n",
       "\n",
       "    .dataframe thead th {\n",
       "        text-align: right;\n",
       "    }\n",
       "</style>\n",
       "<table border=\"1\" class=\"dataframe\">\n",
       "  <thead>\n",
       "    <tr style=\"text-align: right;\">\n",
       "      <th></th>\n",
       "      <th>contributor_last_name</th>\n",
       "      <th>contributor_first_name</th>\n",
       "      <th>contributor_employer</th>\n",
       "      <th>contribution_receipt_amount</th>\n",
       "    </tr>\n",
       "  </thead>\n",
       "  <tbody>\n",
       "    <tr>\n",
       "      <th>104</th>\n",
       "      <td>ANTONIO</td>\n",
       "      <td>FRANKLIN</td>\n",
       "      <td>QUALCOMM TECHNOLOGIES INC</td>\n",
       "      <td>2800.0</td>\n",
       "    </tr>\n",
       "    <tr>\n",
       "      <th>113</th>\n",
       "      <td>JAMESON</td>\n",
       "      <td>JAMES</td>\n",
       "      <td>SELF-EMPLOYED</td>\n",
       "      <td>1000.0</td>\n",
       "    </tr>\n",
       "    <tr>\n",
       "      <th>445</th>\n",
       "      <td>ANTONIO</td>\n",
       "      <td>FRANKLIN</td>\n",
       "      <td>QUALCOMM TECHNOLOGIES INC</td>\n",
       "      <td>2800.0</td>\n",
       "    </tr>\n",
       "  </tbody>\n",
       "</table>\n",
       "</div>"
      ],
      "text/plain": [
       "    contributor_last_name contributor_first_name       contributor_employer  \\\n",
       "104               ANTONIO               FRANKLIN  QUALCOMM TECHNOLOGIES INC   \n",
       "113               JAMESON                  JAMES              SELF-EMPLOYED   \n",
       "445               ANTONIO               FRANKLIN  QUALCOMM TECHNOLOGIES INC   \n",
       "\n",
       "     contribution_receipt_amount  \n",
       "104                       2800.0  \n",
       "113                       1000.0  \n",
       "445                       2800.0  "
      ]
     },
     "execution_count": 130,
     "metadata": {},
     "output_type": "execute_result"
    }
   ],
   "source": [
    "by_candidate[['contributor_last_name','contributor_first_name', 'contributor_employer','contribution_receipt_amount']]"
   ]
  },
  {
   "cell_type": "code",
   "execution_count": 110,
   "metadata": {},
   "outputs": [
    {
     "data": {
      "text/plain": [
       "14293.32"
      ]
     },
     "execution_count": 110,
     "metadata": {},
     "output_type": "execute_result"
    }
   ],
   "source": [
    "by_candidate.contribution_receipt_amount.sum"
   ]
  },
  {
   "cell_type": "code",
   "execution_count": null,
   "metadata": {},
   "outputs": [],
   "source": [
    "# City of San Diego"
   ]
  },
  {
   "cell_type": "code",
   "execution_count": 111,
   "metadata": {},
   "outputs": [
    {
     "data": {
      "text/plain": [
       "6330"
      ]
     },
     "execution_count": 111,
     "metadata": {},
     "output_type": "execute_result"
    }
   ],
   "source": [
    "# PERDUE 5530\n",
    "# LOEFFLER 800\n",
    "\n",
    "5530 + 800"
   ]
  },
  {
   "cell_type": "code",
   "execution_count": 112,
   "metadata": {},
   "outputs": [
    {
     "data": {
      "text/plain": [
       "103402.67000000001"
      ]
     },
     "execution_count": 112,
     "metadata": {},
     "output_type": "execute_result"
    }
   ],
   "source": [
    "# OSSOFF 77660.99\n",
    "# WARNOCK 25741.68\n",
    "\n",
    "77660.99 + 25741.68"
   ]
  },
  {
   "cell_type": "code",
   "execution_count": null,
   "metadata": {},
   "outputs": [],
   "source": [
    "# City of Del Mar"
   ]
  },
  {
   "cell_type": "code",
   "execution_count": 113,
   "metadata": {},
   "outputs": [
    {
     "data": {
      "text/plain": [
       "9400"
      ]
     },
     "execution_count": 113,
     "metadata": {},
     "output_type": "execute_result"
    }
   ],
   "source": [
    "# PERDUE 6600\n",
    "# LOEFFLER 2800\n",
    "\n",
    "6600 + 2800"
   ]
  },
  {
   "cell_type": "code",
   "execution_count": 114,
   "metadata": {},
   "outputs": [
    {
     "data": {
      "text/plain": [
       "27008.23"
      ]
     },
     "execution_count": 114,
     "metadata": {},
     "output_type": "execute_result"
    }
   ],
   "source": [
    "# OSSOFF 14293.32\n",
    "# WARNOCK 12714.91\n",
    "\n",
    "14293.32 + 12714.91"
   ]
  },
  {
   "cell_type": "code",
   "execution_count": null,
   "metadata": {},
   "outputs": [],
   "source": [
    "# City of Solana Beach "
   ]
  },
  {
   "cell_type": "code",
   "execution_count": 115,
   "metadata": {},
   "outputs": [
    {
     "data": {
      "text/plain": [
       "500"
      ]
     },
     "execution_count": 115,
     "metadata": {},
     "output_type": "execute_result"
    }
   ],
   "source": [
    "# PERDUE 500\n",
    "# LOEFFLER 0\n",
    "\n",
    "500 + 0"
   ]
  },
  {
   "cell_type": "code",
   "execution_count": 116,
   "metadata": {},
   "outputs": [
    {
     "data": {
      "text/plain": [
       "1164.29"
      ]
     },
     "execution_count": 116,
     "metadata": {},
     "output_type": "execute_result"
    }
   ],
   "source": [
    "# OSSOFF 807.15\n",
    "# WARNOCK 357.14\n",
    "\n",
    "807.15 + 357.14"
   ]
  },
  {
   "cell_type": "code",
   "execution_count": 127,
   "metadata": {},
   "outputs": [
    {
     "data": {
      "text/html": [
       "<div>\n",
       "<style scoped>\n",
       "    .dataframe tbody tr th:only-of-type {\n",
       "        vertical-align: middle;\n",
       "    }\n",
       "\n",
       "    .dataframe tbody tr th {\n",
       "        vertical-align: top;\n",
       "    }\n",
       "\n",
       "    .dataframe thead th {\n",
       "        text-align: right;\n",
       "    }\n",
       "</style>\n",
       "<table border=\"1\" class=\"dataframe\">\n",
       "  <thead>\n",
       "    <tr style=\"text-align: right;\">\n",
       "      <th></th>\n",
       "      <th>contributor_employer</th>\n",
       "      <th>contribution_receipt_amount</th>\n",
       "    </tr>\n",
       "  </thead>\n",
       "  <tbody>\n",
       "    <tr>\n",
       "      <th>3</th>\n",
       "      <td>NOT EMPLOYED</td>\n",
       "      <td>5473.43</td>\n",
       "    </tr>\n",
       "    <tr>\n",
       "      <th>0</th>\n",
       "      <td>EFC MANAGEMENT COMPANY, INC.</td>\n",
       "      <td>4909.89</td>\n",
       "    </tr>\n",
       "    <tr>\n",
       "      <th>2</th>\n",
       "      <td>JACOBS INVESTMENT COMPANY, LLC</td>\n",
       "      <td>2800.00</td>\n",
       "    </tr>\n",
       "    <tr>\n",
       "      <th>4</th>\n",
       "      <td>SELF EMPLOYED</td>\n",
       "      <td>800.00</td>\n",
       "    </tr>\n",
       "    <tr>\n",
       "      <th>1</th>\n",
       "      <td>GENERAL ATOMICS</td>\n",
       "      <td>310.00</td>\n",
       "    </tr>\n",
       "  </tbody>\n",
       "</table>\n",
       "</div>"
      ],
      "text/plain": [
       "             contributor_employer  contribution_receipt_amount\n",
       "3                    NOT EMPLOYED                      5473.43\n",
       "0    EFC MANAGEMENT COMPANY, INC.                      4909.89\n",
       "2  JACOBS INVESTMENT COMPANY, LLC                      2800.00\n",
       "4                   SELF EMPLOYED                       800.00\n",
       "1                 GENERAL ATOMICS                       310.00"
      ]
     },
     "execution_count": 127,
     "metadata": {},
     "output_type": "execute_result"
    }
   ],
   "source": [
    "by_candidate.groupby(\"contributor_employer\").contribution_receipt_amount.sum().reset_index().sort_values(\"contribution_receipt_amount\",ascending=False)"
   ]
  },
  {
   "cell_type": "code",
   "execution_count": null,
   "metadata": {},
   "outputs": [],
   "source": [
    "# search by donor name"
   ]
  },
  {
   "cell_type": "code",
   "execution_count": 138,
   "metadata": {},
   "outputs": [],
   "source": [
    "by_donor = georgia[georgia.contributor_last_name == \"BERRY\"]"
   ]
  },
  {
   "cell_type": "code",
   "execution_count": 139,
   "metadata": {},
   "outputs": [
    {
     "data": {
      "text/html": [
       "<div>\n",
       "<style scoped>\n",
       "    .dataframe tbody tr th:only-of-type {\n",
       "        vertical-align: middle;\n",
       "    }\n",
       "\n",
       "    .dataframe tbody tr th {\n",
       "        vertical-align: top;\n",
       "    }\n",
       "\n",
       "    .dataframe thead th {\n",
       "        text-align: right;\n",
       "    }\n",
       "</style>\n",
       "<table border=\"1\" class=\"dataframe\">\n",
       "  <thead>\n",
       "    <tr style=\"text-align: right;\">\n",
       "      <th></th>\n",
       "      <th>contributor_first_name</th>\n",
       "      <th>contributor_last_name</th>\n",
       "      <th>contribution_receipt_amount</th>\n",
       "      <th>committee_name</th>\n",
       "    </tr>\n",
       "  </thead>\n",
       "  <tbody>\n",
       "    <tr>\n",
       "      <th>750</th>\n",
       "      <td>CHARLES</td>\n",
       "      <td>BERRY</td>\n",
       "      <td>2800.0</td>\n",
       "      <td>OSSOFF-WARNOCK VICTORY FUND</td>\n",
       "    </tr>\n",
       "  </tbody>\n",
       "</table>\n",
       "</div>"
      ],
      "text/plain": [
       "    contributor_first_name contributor_last_name  contribution_receipt_amount  \\\n",
       "750                CHARLES                 BERRY                       2800.0   \n",
       "\n",
       "                  committee_name  \n",
       "750  OSSOFF-WARNOCK VICTORY FUND  "
      ]
     },
     "execution_count": 139,
     "metadata": {},
     "output_type": "execute_result"
    }
   ],
   "source": [
    "by_donor[['contributor_first_name','contributor_last_name','contribution_receipt_amount','committee_name']]"
   ]
  },
  {
   "cell_type": "code",
   "execution_count": 143,
   "metadata": {},
   "outputs": [
    {
     "data": {
      "text/html": [
       "<div>\n",
       "<style scoped>\n",
       "    .dataframe tbody tr th:only-of-type {\n",
       "        vertical-align: middle;\n",
       "    }\n",
       "\n",
       "    .dataframe tbody tr th {\n",
       "        vertical-align: top;\n",
       "    }\n",
       "\n",
       "    .dataframe thead th {\n",
       "        text-align: right;\n",
       "    }\n",
       "</style>\n",
       "<table border=\"1\" class=\"dataframe\">\n",
       "  <thead>\n",
       "    <tr style=\"text-align: right;\">\n",
       "      <th></th>\n",
       "      <th>contributor_employer</th>\n",
       "      <th>contribution_receipt_amount</th>\n",
       "    </tr>\n",
       "  </thead>\n",
       "  <tbody>\n",
       "    <tr>\n",
       "      <th>55</th>\n",
       "      <td>NOT EMPLOYED</td>\n",
       "      <td>79464.26</td>\n",
       "    </tr>\n",
       "    <tr>\n",
       "      <th>64</th>\n",
       "      <td>QUALCOMM TECHNOLOGIES INC</td>\n",
       "      <td>8400.00</td>\n",
       "    </tr>\n",
       "    <tr>\n",
       "      <th>30</th>\n",
       "      <td>EFC MANAGEMENT COMPANY, INC.</td>\n",
       "      <td>8019.78</td>\n",
       "    </tr>\n",
       "    <tr>\n",
       "      <th>75</th>\n",
       "      <td>SELF EMPLOYED</td>\n",
       "      <td>6483.33</td>\n",
       "    </tr>\n",
       "    <tr>\n",
       "      <th>82</th>\n",
       "      <td>STRELITZIA VENTURES</td>\n",
       "      <td>5600.00</td>\n",
       "    </tr>\n",
       "    <tr>\n",
       "      <th>...</th>\n",
       "      <td>...</td>\n",
       "      <td>...</td>\n",
       "    </tr>\n",
       "    <tr>\n",
       "      <th>66</th>\n",
       "      <td>QUESTGARDEN, INC</td>\n",
       "      <td>125.00</td>\n",
       "    </tr>\n",
       "    <tr>\n",
       "      <th>9</th>\n",
       "      <td>BIOLEGEND</td>\n",
       "      <td>125.00</td>\n",
       "    </tr>\n",
       "    <tr>\n",
       "      <th>77</th>\n",
       "      <td>SIE</td>\n",
       "      <td>100.00</td>\n",
       "    </tr>\n",
       "    <tr>\n",
       "      <th>14</th>\n",
       "      <td>CCR</td>\n",
       "      <td>53.45</td>\n",
       "    </tr>\n",
       "    <tr>\n",
       "      <th>59</th>\n",
       "      <td>PBA</td>\n",
       "      <td>50.00</td>\n",
       "    </tr>\n",
       "  </tbody>\n",
       "</table>\n",
       "<p>97 rows × 2 columns</p>\n",
       "</div>"
      ],
      "text/plain": [
       "            contributor_employer  contribution_receipt_amount\n",
       "55                  NOT EMPLOYED                     79464.26\n",
       "64     QUALCOMM TECHNOLOGIES INC                      8400.00\n",
       "30  EFC MANAGEMENT COMPANY, INC.                      8019.78\n",
       "75                 SELF EMPLOYED                      6483.33\n",
       "82           STRELITZIA VENTURES                      5600.00\n",
       "..                           ...                          ...\n",
       "66              QUESTGARDEN, INC                       125.00\n",
       "9                      BIOLEGEND                       125.00\n",
       "77                           SIE                       100.00\n",
       "14                           CCR                        53.45\n",
       "59                           PBA                        50.00\n",
       "\n",
       "[97 rows x 2 columns]"
      ]
     },
     "execution_count": 143,
     "metadata": {},
     "output_type": "execute_result"
    }
   ],
   "source": [
    "georgia.groupby(\"contributor_employer\").contribution_receipt_amount.sum().reset_index().sort_values(\"contribution_receipt_amount\",ascending=False)"
   ]
  },
  {
   "cell_type": "code",
   "execution_count": 159,
   "metadata": {},
   "outputs": [],
   "source": [
    "by_employer = georgia[georgia.contributor_employer.str.contains(\"UC\")]"
   ]
  },
  {
   "cell_type": "code",
   "execution_count": 160,
   "metadata": {},
   "outputs": [
    {
     "data": {
      "text/html": [
       "<div>\n",
       "<style scoped>\n",
       "    .dataframe tbody tr th:only-of-type {\n",
       "        vertical-align: middle;\n",
       "    }\n",
       "\n",
       "    .dataframe tbody tr th {\n",
       "        vertical-align: top;\n",
       "    }\n",
       "\n",
       "    .dataframe thead th {\n",
       "        text-align: right;\n",
       "    }\n",
       "</style>\n",
       "<table border=\"1\" class=\"dataframe\">\n",
       "  <thead>\n",
       "    <tr style=\"text-align: right;\">\n",
       "      <th></th>\n",
       "      <th>committee_name</th>\n",
       "      <th>contributor_employer</th>\n",
       "    </tr>\n",
       "  </thead>\n",
       "  <tbody>\n",
       "    <tr>\n",
       "      <th>69</th>\n",
       "      <td>JON OSSOFF FOR SENATE</td>\n",
       "      <td>UCSD UW</td>\n",
       "    </tr>\n",
       "    <tr>\n",
       "      <th>131</th>\n",
       "      <td>JON OSSOFF FOR SENATE</td>\n",
       "      <td>UCSD UW</td>\n",
       "    </tr>\n",
       "    <tr>\n",
       "      <th>149</th>\n",
       "      <td>JON OSSOFF FOR SENATE</td>\n",
       "      <td>UCSD UW</td>\n",
       "    </tr>\n",
       "    <tr>\n",
       "      <th>152</th>\n",
       "      <td>JON OSSOFF FOR SENATE</td>\n",
       "      <td>UCSD UW</td>\n",
       "    </tr>\n",
       "    <tr>\n",
       "      <th>344</th>\n",
       "      <td>JON OSSOFF FOR SENATE</td>\n",
       "      <td>UCSD UW</td>\n",
       "    </tr>\n",
       "    <tr>\n",
       "      <th>409</th>\n",
       "      <td>JON OSSOFF FOR SENATE</td>\n",
       "      <td>UCSD UW</td>\n",
       "    </tr>\n",
       "    <tr>\n",
       "      <th>750</th>\n",
       "      <td>OSSOFF-WARNOCK VICTORY FUND</td>\n",
       "      <td>UC SAN DIEGO</td>\n",
       "    </tr>\n",
       "  </tbody>\n",
       "</table>\n",
       "</div>"
      ],
      "text/plain": [
       "                  committee_name contributor_employer\n",
       "69         JON OSSOFF FOR SENATE              UCSD UW\n",
       "131        JON OSSOFF FOR SENATE              UCSD UW\n",
       "149        JON OSSOFF FOR SENATE              UCSD UW\n",
       "152        JON OSSOFF FOR SENATE              UCSD UW\n",
       "344        JON OSSOFF FOR SENATE              UCSD UW\n",
       "409        JON OSSOFF FOR SENATE              UCSD UW\n",
       "750  OSSOFF-WARNOCK VICTORY FUND         UC SAN DIEGO"
      ]
     },
     "execution_count": 160,
     "metadata": {},
     "output_type": "execute_result"
    }
   ],
   "source": [
    "by_employer[[\"committee_name\",\"contributor_employer\"]]"
   ]
  },
  {
   "cell_type": "code",
   "execution_count": null,
   "metadata": {},
   "outputs": [],
   "source": []
  }
 ],
 "metadata": {
  "kernelspec": {
   "display_name": "Python 3",
   "language": "python",
   "name": "python3"
  },
  "language_info": {
   "codemirror_mode": {
    "name": "ipython",
    "version": 3
   },
   "file_extension": ".py",
   "mimetype": "text/x-python",
   "name": "python",
   "nbconvert_exporter": "python",
   "pygments_lexer": "ipython3",
   "version": "3.8.5"
  }
 },
 "nbformat": 4,
 "nbformat_minor": 4
}
